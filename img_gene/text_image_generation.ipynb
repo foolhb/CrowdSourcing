{
 "cells": [
  {
   "cell_type": "code",
   "execution_count": 118,
   "metadata": {},
   "outputs": [],
   "source": [
    "import matplotlib.pyplot as plt\n",
    "import matplotlib.image as mpimg\n",
    "import numpy as np\n",
    "from PIL import Image, ImageFont, ImageDraw\n",
    "import string"
   ]
  },
  {
   "cell_type": "code",
   "execution_count": 123,
   "metadata": {},
   "outputs": [],
   "source": [
    "def rgb2bw(img, threshold=250):\n",
    "    # img = img.convert('L')\n",
    "    table = []\n",
    "    for i in range(256):\n",
    "        if i < threshold:\n",
    "            table.append(0)\n",
    "        else:\n",
    "            table.append(1)\n",
    "    photo = img.convert('L').point(table, '1')\n",
    "    return photo"
   ]
  },
  {
   "cell_type": "code",
   "execution_count": 124,
   "metadata": {},
   "outputs": [],
   "source": [
    "def gaussian_blur(img, scale=2.0):\n",
    "    img_arr = np.array(img)\n",
    "    blue_arr = img_arr.copy()\n",
    "    m, n = blue_arr.shape\n",
    "    for i in range(blue_arr.shape[0]):\n",
    "        for j in range(blue_arr.shape[1]):\n",
    "            iDelta, jDelta = np.random.normal(loc=0, scale=scale, size=2).astype(int)\n",
    "            #         print(iDelta,jDelta)\n",
    "            x = i + iDelta\n",
    "            y = j + jDelta\n",
    "            if x < 0 or x >= m or y < 0 or y >= n:\n",
    "                new_val = True\n",
    "            else:\n",
    "                new_val = img_arr[x, y]\n",
    "            blue_arr[i, j] = new_val\n",
    "    return Image.fromarray(blue_arr)"
   ]
  },
  {
   "cell_type": "code",
   "execution_count": 166,
   "metadata": {},
   "outputs": [
    {
     "data": {
      "image/png": "[encoded data removed]",
      "text/plain": [
       "<Figure size 432x288 with 1 Axes>"
      ]
     },
     "metadata": {
      "needs_background": "light"
     },
     "output_type": "display_data"
    }
   ],
   "source": [
    "def draw_text(font='FreeMono', path='/Users/hanbo/Desktop/5306/p3/fonts/', txt=\"Crowd\", char_height=100, test_mode = False):\n",
    "    if not test_mode:\n",
    "        bg_color = (255, 255, 255)\n",
    "        txt_color = (0,0,0)\n",
    "    else:\n",
    "        bg_color = (0, 0, 0)\n",
    "        txt_color = (255, 255, 255)\n",
    "    char_width = char_height / 2\n",
    "    height = int(char_height * 3)\n",
    "    width = int(len(txt) * char_width * 2 * 1.3)\n",
    "    img = Image.new('RGB', (width, height), bg_color)\n",
    "    # get a font\n",
    "    font_path = path + font + \".ttf\"\n",
    "    fnt = ImageFont.truetype(font_path, 150)\n",
    "    # get a drawing context\n",
    "    d = ImageDraw.Draw(img)\n",
    "\n",
    "    anchor = (int(width / 7), int(height / 4.5))\n",
    "    d.text(anchor, txt, font=fnt, fill=txt_color)\n",
    "    return img\n",
    "\n",
    "# unit test\n",
    "img = draw_text(test_mode=True)\n",
    "plot_img(img)\n",
    "# img.show()"
   ]
  },
  {
   "cell_type": "code",
   "execution_count": 167,
   "metadata": {},
   "outputs": [],
   "source": [
    "def plot_img(img):\n",
    "    plt.imshow(img)  # 显示图片\n",
    "    plt.axis('off')  # 不显示坐标轴\n",
    "    plt.show()"
   ]
  },
  {
   "cell_type": "code",
   "execution_count": 170,
   "metadata": {},
   "outputs": [
    {
     "data": {
      "image/png": "[encoded data removed]",
      "text/plain": [
       "<Figure size 432x288 with 1 Axes>"
      ]
     },
     "metadata": {
      "needs_background": "light"
     },
     "output_type": "display_data"
    },
    {
     "data": {
      "image/png": "[encoded data removed]",
      "text/plain": [
       "<Figure size 432x288 with 1 Axes>"
      ]
     },
     "metadata": {
      "needs_background": "light"
     },
     "output_type": "display_data"
    }
   ],
   "source": [
    "img = draw_text(test_mode=False)\n",
    "plot_img(img)\n",
    "img = rgb2bw(img)\n",
    "img = gaussian_blur(img, scale=15)\n",
    "plot_img(img)"
   ]
  },
  {
   "cell_type": "code",
   "execution_count": null,
   "metadata": {},
   "outputs": [],
   "source": []
  }
 ],
 "metadata": {
  "kernelspec": {
   "display_name": "Python 3",
   "language": "python",
   "name": "python3"
  },
  "language_info": {
   "codemirror_mode": {
    "name": "ipython",
    "version": 3
   },
   "file_extension": ".py",
   "mimetype": "text/x-python",
   "name": "python",
   "nbconvert_exporter": "python",
   "pygments_lexer": "ipython3",
   "version": "3.6.8"
  }
 },
 "nbformat": 4,
 "nbformat_minor": 2
}
